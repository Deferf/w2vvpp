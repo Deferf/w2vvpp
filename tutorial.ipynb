{
 "cells": [
  {
   "cell_type": "markdown",
   "metadata": {},
   "source": [
    "# Tutorial code for ad-hoc video search"
   ]
  },
  {
   "cell_type": "code",
   "execution_count": 1,
   "metadata": {},
   "outputs": [],
   "source": [
    "import os\n",
    "import torch\n",
    "import numpy as np\n",
    "\n",
    "from model import get_model\n",
    "from bigfile import BigFile\n",
    "from evaluation import compute_sim\n",
    "from common import ROOT_PATH as rootpath"
   ]
  },
  {
   "cell_type": "markdown",
   "metadata": {},
   "source": [
    "### Load checkpoint to initialize model"
   ]
  },
  {
   "cell_type": "code",
   "execution_count": 2,
   "metadata": {},
   "outputs": [
    {
     "name": "stdout",
     "output_type": "stream",
     "text": [
      "=> loaded checkpoint './runs_0/model_best.pth.tar' (best_perf 0.519786344882)\n",
      "VisTransformNet(\n",
      "  (fc1): Linear(in_features=2048, out_features=2048, bias=True)\n",
      "  (activation): Tanh()\n",
      ")\n",
      "MultiScaleTxtNet(\n",
      "  (encoder): MultiScaleTxtEncoder(\n",
      "    (rnn_encoder): GruTxtEncoder(\n",
      "      (we): Embedding(11286, 500)\n",
      "      (rnn): GRU(500, 1024, batch_first=True)\n",
      "    )\n",
      "    (w2v_encoder): W2VTxtEncoder()\n",
      "    (bow_encoder): BoWTxtEncoder()\n",
      "  )\n",
      "  (transformer): TxtTransformNet(\n",
      "    (fc1): Linear(in_features=12671, out_features=2048, bias=True)\n",
      "    (activation): Tanh()\n",
      "  )\n",
      ")\n"
     ]
    }
   ],
   "source": [
    "resume_file = './runs_0/model_best.pth.tar'\n",
    "if torch.cuda.is_available():\n",
    "    checkpoint = torch.load(resume_file)\n",
    "else:\n",
    "    checkpoint = torch.load(resume_file,map_location='cpu')\n",
    "best_perf = checkpoint['best_perf']\n",
    "config = checkpoint['config']\n",
    "\n",
    "model = get_model('w2vvpp')(config)\n",
    "model.load_state_dict(checkpoint['model'])\n",
    "print(\"=> loaded checkpoint '{}' (best_perf {})\"\n",
    "      .format(resume_file, best_perf))\n",
    "\n",
    "print(model.vis_net)\n",
    "print(model.txt_net)"
   ]
  },
  {
   "cell_type": "markdown",
   "metadata": {},
   "source": [
    "### Embed video feature"
   ]
  },
  {
   "cell_type": "code",
   "execution_count": 3,
   "metadata": {},
   "outputs": [
    {
     "name": "stdout",
     "output_type": "stream",
     "text": [
      "[BigFile] 200x2048 instances loaded from /home/chaoxi/VisualSearch/tv2016train/FeatureData/mean_pyresnext-101_rbps13k,flatten0_output,os\n"
     ]
    }
   ],
   "source": [
    "# load video feature\n",
    "video_collection = 'tv2016train'\n",
    "feat_name = 'mean_pyresnext-101_rbps13k,flatten0_output,os'\n",
    "vid_feat_dir = os.path.join(rootpath, video_collection, 'FeatureData', feat_name)\n",
    "vid_feat_file = BigFile(vid_feat_dir)\n",
    "\n",
    "videoset = vid_feat_file.names\n",
    "renamed, vectors = vid_feat_file.read(videoset)\n",
    "nr_videos = len(renamed)\n",
    "vis_vecs = np.array([model.embed_vis(x)[0].numpy() for x in vectors])"
   ]
  },
  {
   "cell_type": "markdown",
   "metadata": {},
   "source": [
    "### Embed sentence"
   ]
  },
  {
   "cell_type": "code",
   "execution_count": 4,
   "metadata": {},
   "outputs": [],
   "source": [
    "sent = 'a dog is playing with a cat'\n",
    "sent_vec = model.embed_txt(sent).numpy()"
   ]
  },
  {
   "cell_type": "markdown",
   "metadata": {},
   "source": [
    "### Compute similarity"
   ]
  },
  {
   "cell_type": "code",
   "execution_count": 5,
   "metadata": {},
   "outputs": [
    {
     "name": "stdout",
     "output_type": "stream",
     "text": [
      "cosine_sim execution time: 0.007\n",
      "\n",
      "[('tv2016train_video92', 0.39867592), ('tv2016train_video128', 0.3559459), ('tv2016train_video147', 0.35549513), ('tv2016train_video26', 0.26383188), ('tv2016train_video14', 0.25476596)]\n"
     ]
    }
   ],
   "source": [
    "ranklist = [(renamed[i], sim) for i, sim in enumerate(compute_sim(sent_vec, vis_vecs, measure='cosine')[0])]\n",
    "ranklist.sort(key=lambda v:v[1], reverse=True)\n",
    "\n",
    "print (ranklist[:5])"
   ]
  },
  {
   "cell_type": "code",
   "execution_count": null,
   "metadata": {},
   "outputs": [],
   "source": []
  }
 ],
 "metadata": {
  "kernelspec": {
   "display_name": "Python 2",
   "language": "python",
   "name": "python2"
  },
  "language_info": {
   "codemirror_mode": {
    "name": "ipython",
    "version": 2
   },
   "file_extension": ".py",
   "mimetype": "text/x-python",
   "name": "python",
   "nbconvert_exporter": "python",
   "pygments_lexer": "ipython2",
   "version": "2.7.12"
  }
 },
 "nbformat": 4,
 "nbformat_minor": 2
}
